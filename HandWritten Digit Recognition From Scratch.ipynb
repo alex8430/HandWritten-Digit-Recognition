{
 "cells": [
  {
   "cell_type": "markdown",
   "metadata": {},
   "source": [
    "# HandWritten Digit Recognition"
   ]
  },
  {
   "cell_type": "code",
   "execution_count": 1,
   "metadata": {},
   "outputs": [],
   "source": [
    "import os\n",
    "import struct \n",
    "import numpy as np\n",
    "import matplotlib.pyplot as plt"
   ]
  },
  {
   "cell_type": "markdown",
   "metadata": {},
   "source": [
    "## Function For Load MNIST Data"
   ]
  },
  {
   "cell_type": "markdown",
   "metadata": {},
   "source": [
    "The load_mnist function returns two arrays, the first being an n*m dimensional NumPy array (images),where n is the number of examples and m is the number of features (here, pixels). \n",
    "The training dataset consists of 60,000 training digits and the test dataset contains 10,000 examples, respectively.\n",
    "\n",
    "The images in the MNIST dataset consist of pixels, and each pixel is represented by a grayscale intensity value. Here, we unroll the pixels into one-dimensional row vectors, which represent the rows in our images array (784 per row or image). The second array (labels) returned by the load_mnist function contains the corresponding target variable, the class labels (integers 0-9) of the handwritten digits.\n"
   ]
  },
  {
   "cell_type": "code",
   "execution_count": null,
   "metadata": {},
   "outputs": [],
   "source": [
    "def load_mnist(path,kind='train'):\n",
    "    labels_path = os.path.join(path,'%s-labels-idx1-ubyte' % kind) #path for image labels\n",
    "    images_path = os.path.join(path,'%s-images-idx3-ubyte' % kind) #path for image\n",
    "    with open(labels_path,'rb') as lbpath:\n",
    "        magic,n = struct.unpack('>II',lbpath.read(8)) # '>':refers to Big-Endian it define the order to in which sequence of bytes are stored and 'I':refers to Unsigned Integer\n",
    "        labels = np.fromfile(lbpath,dtype=np.uint8)\n",
    "        \n",
    "    with open(images_path,'rb') as imgpath:\n",
    "        magic,num,row,cols = struct.unpack(\">IIII\",imgpath.read(16))\n",
    "        images = np.fromfile(imgpath,dtype=np.uint8).reshape(len(labels),784)\n",
    "        images = ((images/255.)-.5)*2 # normalize the pixel value in range -1 to 1 due to this gradient based optimization is much more stable\n",
    "    \n",
    "    return images,labels"
   ]
  },
  {
   "cell_type": "markdown",
   "metadata": {},
   "source": [
    "## Loading Train and Test Instances "
   ]
  },
  {
   "cell_type": "code",
   "execution_count": null,
   "metadata": {},
   "outputs": [],
   "source": [
    "X_train ,y_train = load_mnist('path',kind='train')\n",
    "X_test,y_test = load_mnist('path',kind='test')\n",
    "print(X_train.shape[0],X_train.shape[1])\n",
    "print(X_test.shape[0],X_test.shape[1])"
   ]
  },
  {
   "cell_type": "markdown",
   "metadata": {},
   "source": [
    "## Save the Data Into new file after Preprocessing it which is done in function load_mnist() "
   ]
  },
  {
   "cell_type": "code",
   "execution_count": null,
   "metadata": {},
   "outputs": [],
   "source": [
    "np.savez_compressed('mnist_scaled.npz',X_train=X_train,y_train=y_train,X_test=X_test,y_test=y_test)"
   ]
  },
  {
   "cell_type": "markdown",
   "metadata": {},
   "source": [
    "## after Created .npz file now we loaded"
   ]
  },
  {
   "cell_type": "code",
   "execution_count": 2,
   "metadata": {},
   "outputs": [],
   "source": [
    "mnist = np.load('mnist_scaled.npz')\n",
    "X_train,y_train,X_test,y_test = [mnist[f] for f in mnist.files]"
   ]
  },
  {
   "cell_type": "markdown",
   "metadata": {},
   "source": [
    "# Implementing MLP\n",
    "    \n",
    " ## Parameters:\n",
    "    n_hidden: number of hidden layers.\n",
    "    l2:l2 regularization to prevent overfitting.\n",
    "    epochs:number of itterative loops over training example.\n",
    "    eta:learning rate.\n",
    "    shuffle: shuffle traing data after every epoch to prevent the same pattern of input then previous.\n",
    "    minibatch_size: for implementing Stocastic gradient descent to find global minima of cost function.\n",
    "    seed: random seed for Initializing weights and shuffling."
   ]
  },
  {
   "cell_type": "code",
   "execution_count": 3,
   "metadata": {},
   "outputs": [],
   "source": [
    "class NeuralNetMLP(object):\n",
    "    def __init__(self,n_hidden=100,l2=0.0,epochs=100,eta=0.001,shuffle=True,minibatch_size=1,seed=None):\n",
    "        self.random = np.random.RandomState(seed)\n",
    "        self.n_hidden = n_hidden\n",
    "        self.l2 = l2\n",
    "        self.epochs = epochs\n",
    "        self.eta = eta\n",
    "        self.shuffle = shuffle\n",
    "        self.minibatch_size = minibatch_size\n",
    "    \n",
    "    def OneHot_encode(self,Y,n_classes):#encoded label into one hot representation\n",
    "        onehot = np.zeros((n_classes,Y.shape[0]))  #numpy array of zeros of shape 10 x number of examples [10={0-9}] label value are 0-9\n",
    "        for idx,val in enumerate(Y.astype(int)):   #Y.astype(int) for makesure target value is int type\n",
    "            onehot[val,idx]=1                      # replace 0.0 with 1, val is related to label and idx is indices of nth example\n",
    "        return onehot.T\n",
    "    \n",
    "    def sigmoid_fun(self,z): # to put the range of net input in range between 0-1 for the activation value of next layer\n",
    "        return (1/(1+np.exp(-np.clip(z,-250,250)))) #np.clip(z,-250,250) because mnist dataset has pixel value -250-255  -250 means background (white), 255 means foreground (black).\n",
    "    \n",
    "    def forward_propagation(self,X):\n",
    "        z_h = np.dot(X,self.w_h)+self.b_h  # net input first layer w_h: weight b/w input and hidden layer, b_h: biased value\n",
    "        a_h = self.sigmoid_fun(z_h) # activation of hidden layer\n",
    "        z_out = np.dot(a_h,self.w_out)+self.b_out # net input of output layer w_out:wight b/w hidden and output layer and b_out biased value\n",
    "        a_out = self.sigmoid_fun(z_out) # activation of output layer\n",
    "        return z_h,a_h,z_out,a_out\n",
    "    \n",
    "    def Cost_fun(self,Y_enc,output):#logistic cost function\n",
    "        l2_term = (self.l2*(np.sum(self.w_h**2)+np.sum(self.w_out**2)))\n",
    "        term1 = -Y_enc*(np.log(output))\n",
    "        term2 = (1-Y_enc)*np.log(1-output)\n",
    "        cost = np.sum(term1-term2)+l2_term\n",
    "        return np.sum(cost)\n",
    "    \n",
    "    def predict(self,X):\n",
    "        z_h,a_h,z_out,a_out = self.forward_propagation(X)\n",
    "        Y_pred = np.argmax(z_out,axis=1) # return the index of max element\n",
    "        return Y_pred\n",
    "    \n",
    "    def fit(self,X_train,y_train,X_valid,y_valid):\n",
    "        n_output = np.unique(y_train).shape[0] # unique values of y_train which is between 0-9 \n",
    "        n_features = X_train.shape[1]  # 784 features \n",
    "        self.b_h = np.zeros(self.n_hidden) # biased value b/w n_features and n_hidden layers\n",
    "        self.w_h = self.random.normal(loc=0.0,scale=0.1,size=(n_features,self.n_hidden)) # weight b/w n_features and n_hidden layers number of weight n_features*n_hidden\n",
    "        self.b_out = np.zeros(n_output)\n",
    "        self.w_out = self.random.normal(loc=0.0,scale=0.1,size=(self.n_hidden,n_output)) # weight b/w n_hidden and n_output layer number of weight n_hidden*n_output\n",
    "        self.eval = {'cost':[],'train_acc':[],'valid_acc':[]}\n",
    "        y_train_enc = self.OneHot_encode(y_train,n_output)\n",
    "        \n",
    "        for i in range(self.epochs):\n",
    "            indices = np.arange(X_train.shape[0])# indices for 60000 training samples\n",
    "            if(self.shuffle):\n",
    "                self.random.shuffle(indices)\n",
    "            \n",
    "            for start_idx in range(0,indices.shape[0]-self.minibatch_size+1,self.minibatch_size):#compute starting index of minibatches\n",
    "                batch_idx = indices[start_idx:start_idx+self.minibatch_size] # minibatches start and ending index\n",
    "                z_h,a_h,z_out,a_out = self.forward_propagation(X_train[batch_idx])\n",
    "                \n",
    "                ## Back Propagation\n",
    "                delta_out = a_out-y_train_enc[batch_idx]\n",
    "                sigmoid_derivative = a_h*(1-a_h)\n",
    "                delta_h = np.dot(delta_out,self.w_out.T)*sigmoid_derivative\n",
    "                grad_w_h = np.dot(X_train[batch_idx].T,delta_h)\n",
    "                grad_b_h = np.sum(delta_h,axis=0)\n",
    "                \n",
    "                grad_w_out = np.dot(a_h.T,delta_out)\n",
    "                grad_b_out = np.sum(delta_out,axis=0)\n",
    "                \n",
    "                #Regularization and Weight Updates\n",
    "                \n",
    "                delta_w_h = (grad_w_h+self.l2*self.w_h) #regularization\n",
    "                delta_b_h = grad_b_h #biased unit in not regularized\n",
    "                delta_w_out = (grad_w_out+self.l2*self.w_out) #regularization\n",
    "                delta_b_out = grad_b_out #biased unit in not regularized\n",
    "                \n",
    "                self.w_h-= self.eta*delta_w_h\n",
    "                self.b_h-= self.eta*delta_b_h\n",
    "                self.w_out-= self.eta*delta_w_out\n",
    "                self.b_out-= self.eta*delta_b_out\n",
    "            \n",
    "                #Evaluation after each epoch\n",
    "                \n",
    "            z_h,a_h,z_out,a_out = self.forward_propagation(X_train)\n",
    "            cost = self.Cost_fun(y_train_enc,a_out)\n",
    "\n",
    "            y_train_pred = self.predict(X_train) #predict data from training sample\n",
    "            y_valid_pred = self.predict(X_valid) #predict data from new sample\n",
    "\n",
    "            train_acc = ((np.sum(y_train==y_train_pred)).astype(float)/X_train.shape[0]) # number sample predict correct divide by total number of sample\n",
    "            valid_acc = ((np.sum(y_valid==y_valid_pred)).astype(float)/X_valid.shape[0]) # number sample predict correct divide by total number of sample\n",
    "\n",
    "            self.eval['cost'].append(cost)\n",
    "            self.eval['train_acc'].append(train_acc)\n",
    "            self.eval['valid_acc'].append(valid_acc)\n",
    "        return self\n",
    "\n",
    "                \n",
    "                                "
   ]
  },
  {
   "cell_type": "markdown",
   "metadata": {},
   "source": [
    "## Neural Network"
   ]
  },
  {
   "cell_type": "code",
   "execution_count": 44,
   "metadata": {},
   "outputs": [
    {
     "data": {
      "text/plain": [
       "<__main__.NeuralNetMLP at 0x2cd0741bec8>"
      ]
     },
     "execution_count": 44,
     "metadata": {},
     "output_type": "execute_result"
    }
   ],
   "source": [
    "nn = NeuralNetMLP(n_hidden=100,l2=0.1,epochs=200,eta=0.0005,shuffle=True,minibatch_size=100,seed=1)\n",
    "nn.fit(X_train=X_train[:55000],y_train=y_train[:55000],X_valid=X_train[55000:],y_valid=y_train[55000:])"
   ]
  },
  {
   "cell_type": "markdown",
   "metadata": {},
   "source": [
    "## Graph of cost vs number of epochs"
   ]
  },
  {
   "cell_type": "code",
   "execution_count": 45,
   "metadata": {},
   "outputs": [
    {
     "data": {
      "image/png": "[encoded data removed]",
      "text/plain": [
       "<Figure size 432x288 with 1 Axes>"
      ]
     },
     "metadata": {
      "needs_background": "light"
     },
     "output_type": "display_data"
    }
   ],
   "source": [
    "plt.plot(range(nn.epochs),nn.eval['cost'])\n",
    "plt.ylabel(\"cost\")\n",
    "plt.xlabel(\"epochs\")\n",
    "plt.show()"
   ]
  },
  {
   "cell_type": "markdown",
   "metadata": {},
   "source": [
    "## Graph of Training accuracy and Validation test accuracy vs number of epochs\n",
    "    To Check Weather model is Overfitting Or not.\n",
    "    if the curve of valid_acc is away from curve of train_acc it means model is overfitting \n",
    "    to tackle this situation we increase the value l2 regularization. "
   ]
  },
  {
   "cell_type": "code",
   "execution_count": 46,
   "metadata": {},
   "outputs": [
    {
     "data": {
      "image/png": "[encoded data removed]",
      "text/plain": [
       "<Figure size 432x288 with 1 Axes>"
      ]
     },
     "metadata": {
      "needs_background": "light"
     },
     "output_type": "display_data"
    }
   ],
   "source": [
    "plt.plot(range(nn.epochs),nn.eval['train_acc'])\n",
    "plt.plot(range(nn.epochs),nn.eval['valid_acc'])\n",
    "plt.ylabel(\"Accuracy\")\n",
    "plt.xlabel(\"epochs\")\n",
    "plt.show()"
   ]
  },
  {
   "cell_type": "markdown",
   "metadata": {},
   "source": [
    "## Prediction"
   ]
  },
  {
   "cell_type": "code",
   "execution_count": 52,
   "metadata": {},
   "outputs": [
    {
     "name": "stdout",
     "output_type": "stream",
     "text": [
      "accuracy is : 96.63000000000001 %\n"
     ]
    }
   ],
   "source": [
    "predict = nn.predict(X_test)\n",
    "acc = (np.sum(predict==y_test).astype(float)/X_test.shape[0])\n",
    "print(\"accuracy is :\",acc*100,\"%\")"
   ]
  },
  {
   "cell_type": "code",
   "execution_count": null,
   "metadata": {},
   "outputs": [],
   "source": []
  }
 ],
 "metadata": {
  "kernelspec": {
   "display_name": "Python 3",
   "language": "python",
   "name": "python3"
  },
  "language_info": {
   "codemirror_mode": {
    "name": "ipython",
    "version": 3
   },
   "file_extension": ".py",
   "mimetype": "text/x-python",
   "name": "python",
   "nbconvert_exporter": "python",
   "pygments_lexer": "ipython3",
   "version": "3.7.4"
  }
 },
 "nbformat": 4,
 "nbformat_minor": 2
}
